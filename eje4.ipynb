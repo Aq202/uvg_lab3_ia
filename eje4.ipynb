{
 "cells": [
  {
   "cell_type": "code",
   "execution_count": 222,
   "metadata": {},
   "outputs": [],
   "source": [
    "import numpy as np\n",
    "import pandas as pd\n",
    "import matplotlib.pyplot as plt\n",
    "from pprint import pprint"
   ]
  },
  {
   "cell_type": "code",
   "execution_count": 223,
   "metadata": {},
   "outputs": [
    {
     "data": {
      "text/html": [
       "<div>\n",
       "<style scoped>\n",
       "    .dataframe tbody tr th:only-of-type {\n",
       "        vertical-align: middle;\n",
       "    }\n",
       "\n",
       "    .dataframe tbody tr th {\n",
       "        vertical-align: top;\n",
       "    }\n",
       "\n",
       "    .dataframe thead th {\n",
       "        text-align: right;\n",
       "    }\n",
       "</style>\n",
       "<table border=\"1\" class=\"dataframe\">\n",
       "  <thead>\n",
       "    <tr style=\"text-align: right;\">\n",
       "      <th></th>\n",
       "      <th>dist</th>\n",
       "      <th>R</th>\n",
       "      <th>O</th>\n",
       "      <th>Y</th>\n",
       "      <th>G</th>\n",
       "      <th>B</th>\n",
       "    </tr>\n",
       "  </thead>\n",
       "  <tbody>\n",
       "    <tr>\n",
       "      <th>0</th>\n",
       "      <td>0</td>\n",
       "      <td>0.30</td>\n",
       "      <td>0.00</td>\n",
       "      <td>0.00</td>\n",
       "      <td>0.00</td>\n",
       "      <td>0.0</td>\n",
       "    </tr>\n",
       "    <tr>\n",
       "      <th>1</th>\n",
       "      <td>1</td>\n",
       "      <td>0.27</td>\n",
       "      <td>0.01</td>\n",
       "      <td>0.00</td>\n",
       "      <td>0.00</td>\n",
       "      <td>0.0</td>\n",
       "    </tr>\n",
       "    <tr>\n",
       "      <th>2</th>\n",
       "      <td>2</td>\n",
       "      <td>0.21</td>\n",
       "      <td>0.03</td>\n",
       "      <td>0.00</td>\n",
       "      <td>0.00</td>\n",
       "      <td>0.0</td>\n",
       "    </tr>\n",
       "    <tr>\n",
       "      <th>3</th>\n",
       "      <td>3</td>\n",
       "      <td>0.13</td>\n",
       "      <td>0.08</td>\n",
       "      <td>0.00</td>\n",
       "      <td>0.00</td>\n",
       "      <td>0.0</td>\n",
       "    </tr>\n",
       "    <tr>\n",
       "      <th>4</th>\n",
       "      <td>4</td>\n",
       "      <td>0.06</td>\n",
       "      <td>0.15</td>\n",
       "      <td>0.01</td>\n",
       "      <td>0.00</td>\n",
       "      <td>0.0</td>\n",
       "    </tr>\n",
       "    <tr>\n",
       "      <th>5</th>\n",
       "      <td>5</td>\n",
       "      <td>0.02</td>\n",
       "      <td>0.22</td>\n",
       "      <td>0.03</td>\n",
       "      <td>0.00</td>\n",
       "      <td>0.0</td>\n",
       "    </tr>\n",
       "    <tr>\n",
       "      <th>6</th>\n",
       "      <td>6</td>\n",
       "      <td>0.01</td>\n",
       "      <td>0.23</td>\n",
       "      <td>0.08</td>\n",
       "      <td>0.00</td>\n",
       "      <td>0.0</td>\n",
       "    </tr>\n",
       "    <tr>\n",
       "      <th>7</th>\n",
       "      <td>7</td>\n",
       "      <td>0.00</td>\n",
       "      <td>0.15</td>\n",
       "      <td>0.15</td>\n",
       "      <td>0.00</td>\n",
       "      <td>0.0</td>\n",
       "    </tr>\n",
       "    <tr>\n",
       "      <th>8</th>\n",
       "      <td>8</td>\n",
       "      <td>0.00</td>\n",
       "      <td>0.08</td>\n",
       "      <td>0.22</td>\n",
       "      <td>0.01</td>\n",
       "      <td>0.0</td>\n",
       "    </tr>\n",
       "    <tr>\n",
       "      <th>9</th>\n",
       "      <td>9</td>\n",
       "      <td>0.00</td>\n",
       "      <td>0.04</td>\n",
       "      <td>0.23</td>\n",
       "      <td>0.03</td>\n",
       "      <td>0.0</td>\n",
       "    </tr>\n",
       "  </tbody>\n",
       "</table>\n",
       "</div>"
      ],
      "text/plain": [
       "   dist     R     O     Y     G    B\n",
       "0     0  0.30  0.00  0.00  0.00  0.0\n",
       "1     1  0.27  0.01  0.00  0.00  0.0\n",
       "2     2  0.21  0.03  0.00  0.00  0.0\n",
       "3     3  0.13  0.08  0.00  0.00  0.0\n",
       "4     4  0.06  0.15  0.01  0.00  0.0\n",
       "5     5  0.02  0.22  0.03  0.00  0.0\n",
       "6     6  0.01  0.23  0.08  0.00  0.0\n",
       "7     7  0.00  0.15  0.15  0.00  0.0\n",
       "8     8  0.00  0.08  0.22  0.01  0.0\n",
       "9     9  0.00  0.04  0.23  0.03  0.0"
      ]
     },
     "execution_count": 223,
     "metadata": {},
     "output_type": "execute_result"
    }
   ],
   "source": [
    "color_distribution = pd.read_csv(\"Sensor_Color_Distribution.csv\")\n",
    "color_distribution.head(10)"
   ]
  },
  {
   "cell_type": "code",
   "execution_count": 224,
   "metadata": {},
   "outputs": [
    {
     "data": {
      "text/plain": [
       "0.06"
      ]
     },
     "execution_count": 224,
     "metadata": {},
     "output_type": "execute_result"
    }
   ],
   "source": [
    "color_distribution.loc[color_distribution['dist'] == 4, \"R\"].values[0]"
   ]
  },
  {
   "cell_type": "code",
   "execution_count": 225,
   "metadata": {},
   "outputs": [],
   "source": [
    "def distancia_manhattan(p1,p2):\n",
    "    return max(abs(p1[0] - p2[0]) + abs(p1[1] - p2[1]) - 1, 0)"
   ]
  },
  {
   "cell_type": "code",
   "execution_count": 226,
   "metadata": {},
   "outputs": [
    {
     "data": {
      "text/plain": [
       "[[8, 7, 6, 5, 4, 3, 2, 3, 4, 5],\n",
       " [7, 6, 5, 4, 3, 2, 1, 2, 3, 4],\n",
       " [6, 5, 4, 3, 2, 1, 0, 1, 2, 3],\n",
       " [5, 4, 3, 2, 1, 0, 0, 0, 1, 2],\n",
       " [6, 5, 4, 3, 2, 1, 0, 1, 2, 3],\n",
       " [7, 6, 5, 4, 3, 2, 1, 2, 3, 4],\n",
       " [8, 7, 6, 5, 4, 3, 2, 3, 4, 5],\n",
       " [9, 8, 7, 6, 5, 4, 3, 4, 5, 6],\n",
       " [10, 9, 8, 7, 6, 5, 4, 5, 6, 7],\n",
       " [11, 10, 9, 8, 7, 6, 5, 6, 7, 8]]"
      ]
     },
     "execution_count": 226,
     "metadata": {},
     "output_type": "execute_result"
    }
   ],
   "source": [
    "G = (3,6) # Localización del fantasma\n",
    "pG = 1 / 100\n",
    "D = [[distancia_manhattan(G, (i,j)) for j in range(10)] for i in range(10)]\n",
    "colors = {\"R\":(255,0,0), \"O\": (255, 125, 40), \"Y\": (255,200,0), \"G\":(0,255,0), \"B\":(0,0,255)}\n",
    "\n",
    "D"
   ]
  },
  {
   "cell_type": "code",
   "execution_count": 227,
   "metadata": {},
   "outputs": [
    {
     "name": "stdout",
     "output_type": "stream",
     "text": [
      "[[(255, 200, 0), (255, 125, 40), (255, 125, 40), (255, 125, 40), (255, 125, 40), (255, 0, 0), (255, 0, 0), (255, 0, 0), (255, 125, 40), (255, 125, 40)], [(255, 125, 40), (255, 125, 40), (255, 125, 40), (255, 125, 40), (255, 0, 0), (255, 0, 0), (255, 0, 0), (255, 0, 0), (255, 0, 0), (255, 125, 40)], [(255, 125, 40), (255, 125, 40), (255, 125, 40), (255, 0, 0), (255, 0, 0), (255, 0, 0), (255, 0, 0), (255, 0, 0), (255, 0, 0), (255, 0, 0)], [(255, 125, 40), (255, 125, 40), (255, 0, 0), (255, 0, 0), (255, 0, 0), (255, 0, 0), (0, 0, 0), (255, 0, 0), (255, 0, 0), (255, 0, 0)], [(255, 125, 40), (255, 125, 40), (255, 125, 40), (255, 0, 0), (255, 0, 0), (255, 0, 0), (255, 0, 0), (255, 0, 0), (255, 0, 0), (255, 0, 0)], [(255, 125, 40), (255, 125, 40), (255, 125, 40), (255, 125, 40), (255, 0, 0), (255, 0, 0), (255, 0, 0), (255, 0, 0), (255, 0, 0), (255, 125, 40)], [(255, 200, 0), (255, 125, 40), (255, 125, 40), (255, 125, 40), (255, 125, 40), (255, 0, 0), (255, 0, 0), (255, 0, 0), (255, 125, 40), (255, 125, 40)], [(255, 200, 0), (255, 200, 0), (255, 125, 40), (255, 125, 40), (255, 125, 40), (255, 125, 40), (255, 0, 0), (255, 125, 40), (255, 125, 40), (255, 125, 40)], [(255, 200, 0), (255, 200, 0), (255, 200, 0), (255, 125, 40), (255, 125, 40), (255, 125, 40), (255, 125, 40), (255, 125, 40), (255, 125, 40), (255, 125, 40)], [(0, 255, 0), (255, 200, 0), (255, 200, 0), (255, 200, 0), (255, 125, 40), (255, 125, 40), (255, 125, 40), (255, 125, 40), (255, 125, 40), (255, 200, 0)]]\n"
     ]
    }
   ],
   "source": [
    "result = []\n",
    "for i in range(10):\n",
    "  result.append([])\n",
    "  for j in range(10):\n",
    "\n",
    "    if i == G[0] and j == G[1]:\n",
    "      result[i].append((0,0,0))\n",
    "      continue\n",
    "    \n",
    "    distance = D[i][j]\n",
    "    p = 0\n",
    "    position_color = None\n",
    "    \n",
    "\n",
    "    for color in colors.keys():\n",
    "      # P(X_i,j = color | G) = P(X_i,j = color y G) / P(G)\n",
    "      curr_p = color_distribution.loc[color_distribution['dist'] == distance, color].values[0] / pG\n",
    "      if curr_p > p:\n",
    "        p = curr_p\n",
    "        position_color = colors[color]\n",
    "\n",
    "    result[i].append(position_color)\n",
    "print(result)"
   ]
  },
  {
   "cell_type": "code",
   "execution_count": 228,
   "metadata": {},
   "outputs": [
    {
     "data": {
      "image/png": "[encoded data removed]",
      "text/plain": [
       "<Figure size 640x480 with 1 Axes>"
      ]
     },
     "metadata": {},
     "output_type": "display_data"
    }
   ],
   "source": [
    "plt.imshow(result)\n",
    "plt.axis('off')\n",
    "plt.show()"
   ]
  },
  {
   "cell_type": "markdown",
   "metadata": {},
   "source": [
    "### Bajo el argumento de maximizar la probabilidad a posteriori, indicar cuál es la celda más probable donde se encuentra el fantasma G, dada la evidencia."
   ]
  },
  {
   "cell_type": "code",
   "execution_count": 229,
   "metadata": {},
   "outputs": [],
   "source": [
    "evidence = [ ((0,0), \"Y\"), ((2,2), \"O\"), ((7,6), \"R\"),((9,0), \"G\"), ((9,9), \"Y\")]"
   ]
  },
  {
   "cell_type": "code",
   "execution_count": 230,
   "metadata": {},
   "outputs": [
    {
     "name": "stdout",
     "output_type": "stream",
     "text": [
      "(3, 6)\n"
     ]
    }
   ],
   "source": [
    "\n",
    "p = 0\n",
    "new_G = None\n",
    "results = []\n",
    "# P(g | R_i,j = R_color) ∝ P(R_i,j = R_color | g) P(g)\n",
    "# g es la posición tentativa del fantasma (i,j)\n",
    "for i in range(10):\n",
    "  results.append([])\n",
    "  for j in range(10):\n",
    "\n",
    "    curr_p = None\n",
    "    for S, S_color in evidence:\n",
    "      distance = distancia_manhattan((i,j), S)\n",
    "      \n",
    "      # P(R_i,j = R_color | g) = P(R_i,j = R_color y g) / P(g)\n",
    "      # Simplificando: P(g | R_i,j = R_color) ∝ P(R_i,j = R_color y g)\n",
    "\n",
    "      evidence_p = color_distribution.loc[color_distribution['dist'] == distance, S_color].values[0]\n",
    "      if curr_p == None: \n",
    "        curr_p = evidence_p\n",
    "      else:\n",
    "        # La probabilidad P(R_i,j = R_color | g) depende solo de la distancia (independiente a las demás casillas)\n",
    "        curr_p *= evidence_p\n",
    "\n",
    "    results[i].append(curr_p)\n",
    "    if curr_p > p:\n",
    "      p = curr_p\n",
    "      new_G = (i,j)\n",
    "\n",
    "\n",
    "print(new_G)"
   ]
  }
 ],
 "metadata": {
  "kernelspec": {
   "display_name": "Python 3",
   "language": "python",
   "name": "python3"
  },
  "language_info": {
   "codemirror_mode": {
    "name": "ipython",
    "version": 3
   },
   "file_extension": ".py",
   "mimetype": "text/x-python",
   "name": "python",
   "nbconvert_exporter": "python",
   "pygments_lexer": "ipython3",
   "version": "3.11.7"
  }
 },
 "nbformat": 4,
 "nbformat_minor": 2
}
